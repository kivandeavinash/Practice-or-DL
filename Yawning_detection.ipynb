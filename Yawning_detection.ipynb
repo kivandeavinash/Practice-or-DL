{
  "nbformat": 4,
  "nbformat_minor": 0,
  "metadata": {
    "colab": {
      "provenance": [],
      "authorship_tag": "ABX9TyOOv2KMfs+fJWblJQ7X8A4f",
      "include_colab_link": true
    },
    "kernelspec": {
      "name": "python3",
      "display_name": "Python 3"
    },
    "language_info": {
      "name": "python"
    }
  },
  "cells": [
    {
      "cell_type": "markdown",
      "metadata": {
        "id": "view-in-github",
        "colab_type": "text"
      },
      "source": [
        "<a href=\"https://colab.research.google.com/github/kivandeavinash/Practice-or-DL/blob/main/Yawning_detection.ipynb\" target=\"_parent\"><img src=\"https://colab.research.google.com/assets/colab-badge.svg\" alt=\"Open In Colab\"/></a>"
      ]
    },
    {
      "cell_type": "code",
      "source": [
        "!pip install dlib"
      ],
      "metadata": {
        "colab": {
          "base_uri": "https://localhost:8080/"
        },
        "id": "2BxsJ8gfsXpq",
        "outputId": "4dd1f239-fda9-44b3-947d-2e699f142e5d"
      },
      "execution_count": 8,
      "outputs": [
        {
          "output_type": "stream",
          "name": "stdout",
          "text": [
            "Looking in indexes: https://pypi.org/simple, https://us-python.pkg.dev/colab-wheels/public/simple/\n",
            "Requirement already satisfied: dlib in /usr/local/lib/python3.9/dist-packages (19.24.1)\n"
          ]
        }
      ]
    },
    {
      "cell_type": "code",
      "source": [
        "!pip install opencv-python"
      ],
      "metadata": {
        "colab": {
          "base_uri": "https://localhost:8080/"
        },
        "id": "iQuof0e7sYAu",
        "outputId": "774fba69-1fb4-4d20-d9bb-445c2a90b9e6"
      },
      "execution_count": 9,
      "outputs": [
        {
          "output_type": "stream",
          "name": "stdout",
          "text": [
            "Looking in indexes: https://pypi.org/simple, https://us-python.pkg.dev/colab-wheels/public/simple/\n",
            "Requirement already satisfied: opencv-python in /usr/local/lib/python3.9/dist-packages (4.7.0.72)\n",
            "Requirement already satisfied: numpy>=1.17.0 in /usr/local/lib/python3.9/dist-packages (from opencv-python) (1.22.4)\n"
          ]
        }
      ]
    },
    {
      "cell_type": "code",
      "source": [
        "import cv2\n",
        "import dlib\n",
        "import numpy as np\n",
        "\n",
        "# Load face detector and landmarks predictor\n",
        "detector = dlib.get_frontal_face_detector()\n",
        "predictor = dlib.shape_predictor(\"/content/shape_predictor_68_face_landmarks[1].dat\")\n",
        "\n",
        "# Define the mouth region\n",
        "MOUTH_REGION_IDXS = [48, 68]\n",
        "\n",
        "# Load video\n",
        "cap = cv2.VideoCapture(0)\n",
        "\n",
        "# Initialize variables\n",
        "yawn_cnt = 0\n",
        "yawn_status = False\n",
        "\n",
        "# Loop through frames\n",
        "while True:\n",
        "    # Read frame\n",
        "    ret, frame = cap.read()\n",
        "\n",
        "    if ret:\n",
        "        # Convert to grayscale\n",
        "        gray = cv2.cvtColor(frame, cv2.COLOR_BGR2GRAY)\n",
        "\n",
        "        # Detect faces\n",
        "        faces = detector(gray)\n",
        "\n",
        "        # Loop through faces\n",
        "        for face in faces:\n",
        "            # Get facial landmarks\n",
        "            landmarks = predictor(gray, face)\n",
        "\n",
        "            # Extract mouth region\n",
        "            mouth = np.zeros((len(MOUTH_REGION_IDXS), 2), dtype=np.int32)\n",
        "            for i, idx in enumerate(MOUTH_REGION_IDXS):\n",
        "                mouth[i] = (landmarks.part(idx).x, landmarks.part(idx).y)\n",
        "\n",
        "            # Compute mouth aspect ratio\n",
        "            mouth_width = np.linalg.norm(mouth[6] - mouth[0])\n",
        "            mouth_height = np.linalg.norm(mouth[3] - mouth[9])\n",
        "            mar = mouth_height / mouth_width\n",
        "\n",
        "            # Check if mouth is open\n",
        "            if mar > 0.6:\n",
        "                yawn_cnt += 1\n",
        "                yawn_status = True\n",
        "\n",
        "                # Draw rectangle around mouth region\n",
        "                cv2.rectangle(frame, (mouth[0][0], mouth[0][1]), (mouth[6][0], mouth[6][1]), (0, 0, 255), 2)\n",
        "\n",
        "            else:\n",
        "                yawn_status = False\n",
        "\n",
        "        # Display frame\n",
        "        cv2.imshow(\"Frame\", frame)\n",
        "\n",
        "        # Check for key press\n",
        "        key = cv2.waitKey(1) & 0xFF\n",
        "        if key == ord('q'):\n",
        "            break\n",
        "\n",
        "    else:\n",
        "        break\n",
        "\n",
        "# Release resources\n",
        "cap.release()\n",
        "cv2.destroyAllWindows()\n",
        "\n",
        "# Print yawn count\n",
        "print(\"Total yawns: \", yawn_cnt)\n"
      ],
      "metadata": {
        "colab": {
          "base_uri": "https://localhost:8080/"
        },
        "id": "T5w5V1YYu8Cp",
        "outputId": "d4c17b7d-d062-4968-fb6e-5231c4bbd18f"
      },
      "execution_count": 20,
      "outputs": [
        {
          "output_type": "stream",
          "name": "stdout",
          "text": [
            "Total yawns:  0\n"
          ]
        }
      ]
    }
  ]
}