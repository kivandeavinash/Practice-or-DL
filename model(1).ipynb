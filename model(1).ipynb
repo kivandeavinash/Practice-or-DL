{
  "nbformat": 4,
  "nbformat_minor": 0,
  "metadata": {
    "colab": {
      "provenance": []
    },
    "kernelspec": {
      "name": "python3",
      "display_name": "Python 3"
    },
    "language_info": {
      "name": "python"
    }
  },
  "cells": [
    {
      "cell_type": "code",
      "execution_count": 2,
      "metadata": {
        "id": "K0XK9xtFl1u3"
      },
      "outputs": [],
      "source": [
        "import cv2\n",
        "import dlib\n",
        "from scipy.spatial import distance\n",
        "\n",
        "# Load face detector and landmark predictor\n",
        "detector = dlib.get_frontal_face_detector()\n",
        "predictor = dlib.shape_predictor(\"/content/drive/MyDrive/Yawning_Detection/shape_predictor_68_face_landmarks.dat\")\n",
        "\n",
        "# Define mouth landmarks\n",
        "MOUTH_START = 48\n",
        "MOUTH_END = 68\n",
        "\n",
        "# Define a function to calculate the aspect ratio of the mouth\n",
        "def mouth_aspect_ratio(mouth):\n",
        "    A = distance.euclidean(mouth[2], mouth[10])\n",
        "    B = distance.euclidean(mouth[4], mouth[8])\n",
        "    C = distance.euclidean(mouth[0], mouth[6])\n",
        "    mar = (A + B) / (2.0 * C)\n",
        "    return mar\n",
        "\n",
        "# Open a video stream\n",
        "video_capture = cv2.VideoCapture(0)  "
      ]
    },
    {
      "cell_type": "code",
      "source": [
        "predictor"
      ],
      "metadata": {
        "colab": {
          "base_uri": "https://localhost:8080/"
        },
        "id": "IpndoMY_oxGm",
        "outputId": "c7a4e8fc-16e2-4f44-c5ac-332793e87f96"
      },
      "execution_count": 10,
      "outputs": [
        {
          "output_type": "execute_result",
          "data": {
            "text/plain": [
              "<_dlib_pybind11.shape_predictor at 0x7f564648bdf0>"
            ]
          },
          "metadata": {},
          "execution_count": 10
        }
      ]
    },
    {
      "cell_type": "code",
      "source": [
        "# Initialize variables\n",
        "yawn_count = 0\n",
        "yawn_status = False\n",
        "\n",
        "while True:\n",
        "    # Capture frame-by-frame\n",
        "    ret, frame = video_capture.read()\n",
        "\n",
        "    # Convert the frame to grayscale\n",
        "    gray = cv2.cvtColor(frame, cv2.COLOR_BGR2GRAY)\n",
        "\n",
        "    # Detect faces in the frame\n",
        "    faces = detector(gray)\n",
        "\n",
        "    # Iterate over the faces\n",
        "    for face in faces:\n",
        "        # Get the landmarks for the face\n",
        "        landmarks = predictor(gray, face)\n",
        "\n",
        "        # Extract the mouth landmarks\n",
        "        mouth = []\n",
        "        for i in range(MOUTH_START, MOUTH_END):\n",
        "            x = landmarks.part(i).x\n",
        "            y = landmarks.part(i).y\n",
        "            mouth.append((x, y))\n",
        "\n",
        "        # Calculate the aspect ratio of the mouth\n",
        "        mar = mouth_aspect_ratio(mouth)\n",
        "\n",
        "        # Check if the person is yawning\n",
        "        if mar < 0.3:\n",
        "            yawn_count += 1\n",
        "            yawn_status = True\n",
        "        else:\n",
        "            yawn_status = False\n",
        "\n",
        "        # Draw a rectangle around the face\n",
        "        x1, y1, x2, y2 = face.left(), face.top(), face.right(), face.bottom()\n",
        "        cv2.rectangle(frame, (x1, y1), (x2, y2), (0, 255, 0), 2)\n",
        "\n",
        "        # Draw a rectangle around the mouth\n",
        "        cv2.rectangle(frame, (mouth[0][0], mouth[0][1]), (mouth[6][0], mouth[6][1]), (0, 0, 255), 2)\n",
        "\n",
        "    # Display the yawn count and status\n",
        "    font = cv2.FONT_HERSHEY_SIMPLEX\n",
        "    if yawn_status:\n",
        "        cv2.putText(frame, \"Yawn Count: {}\".format(yawn_count), (10, 30), font, 1, (0, 0, 255), 2, cv2.LINE_AA)\n",
        "        cv2.putText(frame, \"Yawn Status: Yawning\", (10, 70), font, 1, (0, 0, 255), 2, cv2.LINE_AA)\n",
        "    else:\n",
        "        cv2.putText(frame, \"Yawn Count: {}\".format(yawn_count), (10, 30), font, 1, (0, 255, 0), 2, cv2.LINE_AA)\n",
        "        cv2.putText(frame, \"Yawn Status: Not Yawning\", (10, 70), font, 1, (0, 255, 0), 2, cv2.LINE_AA)\n",
        "\n",
        "    # Display the resulting frame\n",
        "    cv2.imshow('Yawning Detection', frame)\n",
        "\n",
        "    # Quit when 'q' is pressed\n",
        "    if cv2.waitKey(1) & 0xFF == ord('q'):\n",
        "      break"
      ],
      "metadata": {
        "id": "Ffi2Bs3SkUxf"
      },
      "execution_count": null,
      "outputs": []
    }
  ]
}