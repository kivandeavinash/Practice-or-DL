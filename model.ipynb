
!pip install dlib
     
Looking in indexes: https://pypi.org/simple, https://us-python.pkg.dev/colab-wheels/public/simple/
Requirement already satisfied: dlib in /usr/local/lib/python3.9/dist-packages (19.24.1)

!pip install opencv-python
     
Looking in indexes: https://pypi.org/simple, https://us-python.pkg.dev/colab-wheels/public/simple/
Requirement already satisfied: opencv-python in /usr/local/lib/python3.9/dist-packages (4.7.0.72)
Requirement already satisfied: numpy>=1.17.0 in /usr/local/lib/python3.9/dist-packages (from opencv-python) (1.22.4)

import cv2
import dlib
import numpy as np

# Load face detector and landmarks predictor
detector = dlib.get_frontal_face_detector()
predictor = dlib.shape_predictor("/content/shape_predictor_68_face_landmarks[1].dat")

# Define the mouth region
MOUTH_REGION_IDXS = [48, 68]

# Load video
cap = cv2.VideoCapture(0)

# Initialize variables
yawn_cnt = 0
yawn_status = False

# Loop through frames
while True:
    # Read frame
    ret, frame = cap.read()

    if ret:
        # Convert to grayscale
        gray = cv2.cvtColor(frame, cv2.COLOR_BGR2GRAY)

        # Detect faces
        faces = detector(gray)

        # Loop through faces
        for face in faces:
            # Get facial landmarks
            landmarks = predictor(gray, face)

            # Extract mouth region
            mouth = np.zeros((len(MOUTH_REGION_IDXS), 2), dtype=np.int32)
            for i, idx in enumerate(MOUTH_REGION_IDXS):
                mouth[i] = (landmarks.part(idx).x, landmarks.part(idx).y)

            # Compute mouth aspect ratio
            mouth_width = np.linalg.norm(mouth[6] - mouth[0])
            mouth_height = np.linalg.norm(mouth[3] - mouth[9])
            mar = mouth_height / mouth_width

            # Check if mouth is open
            if mar > 0.6:
                yawn_cnt += 1
                yawn_status = True

                # Draw rectangle around mouth region
                cv2.rectangle(frame, (mouth[0][0], mouth[0][1]), (mouth[6][0], mouth[6][1]), (0, 0, 255), 2)

            else:
                yawn_status = False

        # Display frame
        cv2.imshow("Frame", frame)

        # Check for key press
        key = cv2.waitKey(1) & 0xFF
        if key == ord('q'):
            break

    else:
        break

# Release resources
cap.release()
cv2.destroyAllWindows()

# Print yawn count
print("Total yawns: ", yawn_cnt)

     
Total yawns:  0